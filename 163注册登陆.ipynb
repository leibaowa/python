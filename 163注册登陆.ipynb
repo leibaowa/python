{
 "cells": [
  {
   "cell_type": "code",
   "execution_count": 17,
   "metadata": {},
   "outputs": [
    {
     "ename": "IndentationError",
     "evalue": "unindent does not match any outer indentation level (<tokenize>, line 19)",
     "output_type": "error",
     "traceback": [
      "\u001b[1;36m  File \u001b[1;32m\"<tokenize>\"\u001b[1;36m, line \u001b[1;32m19\u001b[0m\n\u001b[1;33m    else:\u001b[0m\n\u001b[1;37m    ^\u001b[0m\n\u001b[1;31mIndentationError\u001b[0m\u001b[1;31m:\u001b[0m unindent does not match any outer indentation level\n"
     ]
    }
   ],
   "source": [
    "import random\n",
    "class Regist(object):\n",
    "    def account(self):\n",
    "# 检测邮箱的正确性.\n",
    "# input 返回出来的是一个字符串\n",
    "        email = input('请输入邮箱:')\n",
    "        print('📮 您输入的邮箱是: %s' % email)\n",
    "        self.password()\n",
    "    def password(self):\n",
    "# 密码的长度必须是6-20位\n",
    "# 密码必须含有大写小写字母以及数字.\n",
    "        for _ in range(4):\n",
    "            password_1 = input('请输入您的密码:>>')\n",
    "            password_2 = input('请输入确认密码:>>')\n",
    "               if password_1 == password_2:\n",
    "                    print('密码确认成功')\n",
    "                    self.verfily()\n",
    "                    break\n",
    "                else:\n",
    "                    print('两次密码不一致')\n",
    "        else:\n",
    "            print('您可能是一个机器人滚😡')\n",
    "    def verfily(self):\n",
    "    # 英文和数字的结合\n",
    "    # 给予一个简单的数学运算得到结果.\n",
    "        for _ in range(3):\n",
    "            number = random.randrange(1000,9999)\n",
    "            print('验证码是: %d'%number)\n",
    "            number_2 = input('输入验证码:>>')\n",
    "            if number == int(number_2):\n",
    "                print('注册成功')\n",
    "                break\n",
    "            else:\n",
    "                print('验证码错误')\n",
    "        else:\n",
    "            print('机器人😡')\n",
    "def main():\n",
    "    regist = Regist()\n",
    "    regist.account()\n",
    "\n",
    "main()\n",
    "\n"
   ]
  },
  {
   "cell_type": "code",
   "execution_count": 35,
   "metadata": {},
   "outputs": [
    {
     "name": "stdout",
     "output_type": "stream",
     "text": [
      "150\n"
     ]
    }
   ],
   "source": [
    "class Name(object):\n",
    "    def __init__(self,a,b,c):\n",
    "        self.__a = a\n",
    "        self.__b = b\n",
    "        self.__c = c\n",
    "    \n",
    "    @property\n",
    "    def a(self):\n",
    "        print(self.__a)\n",
    "    \n",
    "    @a.setter\n",
    "    def a(self,num):\n",
    "        self.__a=num\n",
    "    def sum(self):\n",
    "        print(self.__a +self.__b +self.__c)\n",
    "name = Name(10,20,30)\n",
    "name.a=100\n",
    "name.sum()"
   ]
  },
  {
   "cell_type": "code",
   "execution_count": null,
   "metadata": {},
   "outputs": [],
   "source": [
    "\"\"\"创建一个隐私空间，默认情况下只能被查看\n",
    "    当你输入密码正确的时候，才能被修改\"\"\"\n",
    "class  SPACE(object):\n",
    "    def __init__(self,space):\n",
    "        self.__space=space\n",
    "        self.b\n",
    "    def password(self):\n",
    "        "
   ]
  },
  {
   "cell_type": "code",
   "execution_count": null,
   "metadata": {},
   "outputs": [
    {
     "name": "stdout",
     "output_type": "stream",
     "text": [
      "请输入邮箱vuishib\n",
      "vuishib @163.com\n",
      "请输入6-20位密码bh\n",
      "请再次输入密码bh\n",
      "请继续下一步\n",
      "验证码为： 5340\n",
      "请输入验证码7\n",
      "重新验证\n",
      "验证码为： 6231\n",
      "请输入验证码856\n",
      "重新验证\n",
      "验证码为： 8682\n"
     ]
    }
   ],
   "source": [
    "import random\n",
    "class zhuce(object):\n",
    "    def youxiang(self):\n",
    "        self.shuru = input('请输入邮箱')\n",
    "        if len(self.shuru)<8 and len(self.shuru)>10:\n",
    "            print('请输入正确的邮箱格式')\n",
    "        else:\n",
    "            print(self.shuru,'@163.com')\n",
    "    def mima1(self):\n",
    "        self.yi = input('请输入6-20位密码')\n",
    "        if  len(self.yi) <6 and len(self.yi)>20:\n",
    "            print('请输入6-20位密码！！！')\n",
    "            self.mima1()   \n",
    "    def mima2(self):\n",
    "        self.er = input('请再次输入密码')\n",
    "        if self.yi == self.er:\n",
    "            print('请继续下一步')\n",
    "        else:\n",
    "            print('请输入相同密码!!!')\n",
    "            self.mima2()\n",
    "    def yanzheng(self):\n",
    "        self.yanzhengma = random.randrange(1000,9999)\n",
    "        print('验证码为：',self.yanzhengma)\n",
    "        shuru1 = input('请输入验证码')\n",
    "        if int(shuru1) != self.yanzhengma:\n",
    "            print('重新验证')\n",
    "            self.yanzheng()\n",
    "        else:\n",
    "            print('请继续下一步')\n",
    "a=zhuce()\n",
    "a.youxiang()\n",
    "a.mima1()\n",
    "a.mima2()\n",
    "a.yanzheng()"
   ]
  },
  {
   "cell_type": "code",
   "execution_count": null,
   "metadata": {},
   "outputs": [],
   "source": [
    "\"\"\"\n",
    "按顺序显示每个矩形的宽、高、面积、周长\n",
    "\"\"\"\n",
    "class rectangle(object):\n",
    "    def __init__(self,width,height):\n",
    "        self.a = width\n",
    "        self.b = height\n",
    "        width = 1\n",
    "        height = 2\n",
    "        self.a_1 = 4\n",
    "        self.b_1 = 40\n",
    "        self.a_2 = 3.5\n",
    "        self.b_2 =35.7\n",
    "    def getArea(self):\n",
    "        area_1 = self.a_1 * self.b_1\n",
    "        area_2 = self.a_2 * self.b_2\n",
    "        print(area_1,area_2)\n",
    "    def getPerimeter(self):\n",
    "        perimeter_1 = 2*(self.a_1 + self.b_1)\n",
    "        perimeter_2 = 2*(self.a_2 + self.b_2)\n",
    "        return(perimeter_1,perimeter_2)\n",
    "res = rectangle()\n",
    "res.getArea()\n",
    "res.getPerimeter()"
   ]
  },
  {
   "cell_type": "code",
   "execution_count": null,
   "metadata": {},
   "outputs": [],
   "source": []
  },
  {
   "cell_type": "code",
   "execution_count": null,
   "metadata": {},
   "outputs": [],
   "source": []
  },
  {
   "cell_type": "code",
   "execution_count": null,
   "metadata": {},
   "outputs": [],
   "source": []
  },
  {
   "cell_type": "code",
   "execution_count": null,
   "metadata": {},
   "outputs": [],
   "source": []
  },
  {
   "cell_type": "code",
   "execution_count": null,
   "metadata": {},
   "outputs": [],
   "source": []
  },
  {
   "cell_type": "code",
   "execution_count": null,
   "metadata": {},
   "outputs": [],
   "source": []
  },
  {
   "cell_type": "code",
   "execution_count": null,
   "metadata": {},
   "outputs": [],
   "source": []
  },
  {
   "cell_type": "code",
   "execution_count": null,
   "metadata": {},
   "outputs": [],
   "source": []
  },
  {
   "cell_type": "code",
   "execution_count": null,
   "metadata": {},
   "outputs": [],
   "source": []
  },
  {
   "cell_type": "code",
   "execution_count": null,
   "metadata": {},
   "outputs": [],
   "source": []
  },
  {
   "cell_type": "code",
   "execution_count": null,
   "metadata": {},
   "outputs": [],
   "source": []
  },
  {
   "cell_type": "code",
   "execution_count": null,
   "metadata": {},
   "outputs": [],
   "source": []
  },
  {
   "cell_type": "code",
   "execution_count": null,
   "metadata": {},
   "outputs": [],
   "source": []
  },
  {
   "cell_type": "code",
   "execution_count": null,
   "metadata": {},
   "outputs": [],
   "source": []
  }
 ],
 "metadata": {
  "kernelspec": {
   "display_name": "Python 3",
   "language": "python",
   "name": "python3"
  },
  "language_info": {
   "codemirror_mode": {
    "name": "ipython",
    "version": 3
   },
   "file_extension": ".py",
   "mimetype": "text/x-python",
   "name": "python",
   "nbconvert_exporter": "python",
   "pygments_lexer": "ipython3",
   "version": "3.7.3"
  }
 },
 "nbformat": 4,
 "nbformat_minor": 2
}
