{
 "cells": [
  {
   "cell_type": "markdown",
   "metadata": {},
   "source": [
    "homework1"
   ]
  },
  {
   "cell_type": "markdown",
   "metadata": {},
   "source": [
    "1、一个五角数被定义为n(3n-1)/2,编写一个测试程序使用这个函数显示前100个五角数，每行显示10个"
   ]
  },
  {
   "cell_type": "code",
   "execution_count": 80,
   "metadata": {},
   "outputs": [
    {
     "name": "stdout",
     "output_type": "stream",
     "text": [
      "1\t 5\t 12\t 22\t 35\t 51\t 70\t 92\t 117\t 145\t \n",
      "176\t 210\t 247\t 287\t 330\t 376\t 425\t 477\t 532\t 590\t \n",
      "651\t 715\t 782\t 852\t 925\t 1001\t 1080\t 1162\t 1247\t 1335\t \n",
      "1426\t 1520\t 1617\t 1717\t 1820\t 1926\t 2035\t 2147\t 2262\t 2380\t \n",
      "2501\t 2625\t 2752\t 2882\t 3015\t 3151\t 3290\t 3432\t 3577\t 3725\t \n",
      "3876\t 4030\t 4187\t 4347\t 4510\t 4676\t 4845\t 5017\t 5192\t 5370\t \n",
      "5551\t 5735\t 5922\t 6112\t 6305\t 6501\t 6700\t 6902\t 7107\t 7315\t \n",
      "7526\t 7740\t 7957\t 8177\t 8400\t 8626\t 8855\t 9087\t 9322\t 9560\t \n",
      "9801\t 10045\t 10292\t 10542\t 10795\t 11051\t 11310\t 11572\t 11837\t 12105\t \n",
      "12376\t 12650\t 12927\t 13207\t 13490\t 13776\t 14065\t 14357\t 14652\t 14950\t \n"
     ]
    }
   ],
   "source": [
    "def getPentagonalNumber(n):    \n",
    "    c =int(n*(3*n-1)/2 )\n",
    "    print(c,end='\\t ') \n",
    "    if n%10 ==0:        \n",
    "        print()                 \n",
    "for i in range(1,101):      \n",
    "    getPentagonalNumber(i)"
   ]
  },
  {
   "cell_type": "markdown",
   "metadata": {},
   "source": [
    "2、计算一个整数各个数字的和"
   ]
  },
  {
   "cell_type": "code",
   "execution_count": 83,
   "metadata": {},
   "outputs": [
    {
     "name": "stdout",
     "output_type": "stream",
     "text": [
      "9\n"
     ]
    }
   ],
   "source": [
    "def sumDigits(n):\n",
    "    #str将括号中的内容强制转换为字符串\n",
    "    str_ = str(n)\n",
    "    int_ = 0\n",
    "    for i in str_:\n",
    "        int_ +=int(i)\n",
    "    print(int_)\n",
    "\n",
    "sumDigits(234)"
   ]
  },
  {
   "cell_type": "markdown",
   "metadata": {},
   "source": [
    "3、提醒用户输入三个整数，然后调用函数按升序显示三个数"
   ]
  },
  {
   "cell_type": "code",
   "execution_count": 75,
   "metadata": {},
   "outputs": [
    {
     "name": "stdout",
     "output_type": "stream",
     "text": [
      "[4, 8, 12]\n"
     ]
    }
   ],
   "source": [
    "def desplaySortedNumbers(num1,num2,num3):\n",
    "    res=[num1,num2,num3]\n",
    "    res.sort()\n",
    "    print(res)\n",
    "desplaySortedNumbers(12,4,8)"
   ]
  },
  {
   "cell_type": "markdown",
   "metadata": {},
   "source": [
    "4/ 编写一个程序提示用户输入投资额和百分比格式的年利率，然后输出一份表格显示年份从1到30年的未来值。"
   ]
  },
  {
   "cell_type": "code",
   "execution_count": 9,
   "metadata": {},
   "outputs": [
    {
     "name": "stdout",
     "output_type": "stream",
     "text": [
      "1 10041.666666666666\n",
      "2 10083.506944444443\n",
      "3 10125.521556712962\n",
      "4 10167.711229865932\n",
      "5 10210.076693323706\n",
      "6 10252.618679545889\n",
      "7 10295.337924043997\n",
      "8 10338.23516539418\n",
      "9 10381.311145249989\n",
      "10 10424.566608355197\n",
      "11 10468.002302556677\n",
      "12 10511.61897881733\n",
      "13 10555.41739122907\n",
      "14 10599.398297025858\n",
      "15 10643.5624565968\n",
      "16 10687.910633499287\n",
      "17 10732.4435944722\n",
      "18 10777.162109449167\n",
      "19 10822.066951571873\n",
      "20 10867.158897203422\n",
      "21 10912.43872594177\n",
      "22 10957.907220633195\n",
      "23 11003.565167385834\n",
      "24 11049.413355583274\n",
      "25 11095.452577898204\n",
      "26 11141.683630306114\n",
      "27 11188.107312099055\n",
      "28 11234.724425899467\n",
      "29 11281.535777674047\n",
      "30 11328.54217674769\n"
     ]
    }
   ],
   "source": [
    "def futureInvestmentValue(bj,ll,years):\n",
    "    years = years+1\n",
    "    for i in range(1,years):\n",
    "        sy = bj + bj*ll\n",
    "        print(i,sy)\n",
    "        bj=sy\n",
    "futureInvestmentValue(10000,0.05/12,30)"
   ]
  },
  {
   "cell_type": "markdown",
   "metadata": {},
   "source": [
    "5、打印ch1到ch2之间的字符，按每行指定某个数来打印。编写一个测试程序，打印“1”到“Z”的字符，每行打印10个"
   ]
  },
  {
   "cell_type": "code",
   "execution_count": 11,
   "metadata": {},
   "outputs": [
    {
     "name": "stdout",
     "output_type": "stream",
     "text": [
      "1  2  3  4  5  6  7  8  9  :\n",
      ";  <  =  >  ?  @  A  B  C  D\n",
      "E  F  G  H  I  J  K  L  M  N\n",
      "O  P  Q  R  S  T  U  V  W  X\n",
      "Y  "
     ]
    }
   ],
   "source": [
    "def printChars(ch1,ch2,num):\n",
    "    #ord（）函数就是用来返回单个字符的ascii值（0-255）或者unicode数值（）\n",
    "    q=ord(ch1)+0   \n",
    "    w=ord(ch2)\n",
    "    n=0\n",
    "    for i in range(q,w):\n",
    "        n=n+1\n",
    "        if n%num !=0:\n",
    "    #chr（）函数是输入一个整数【0，255】返回其对应的ascii符号\n",
    "            print(chr(i),end='  ')\n",
    "        else:\n",
    "            print(chr(i))\n",
    "        \n",
    "printChars('1','Z',10)"
   ]
  },
  {
   "cell_type": "markdown",
   "metadata": {},
   "source": [
    "6、编写一个程序测试，显示从2010年到2020年每年的天数"
   ]
  },
  {
   "cell_type": "code",
   "execution_count": 63,
   "metadata": {},
   "outputs": [
    {
     "name": "stdout",
     "output_type": "stream",
     "text": [
      "2010 365天\n",
      "2011 365天\n",
      "2012 366天\n",
      "2013 365天\n",
      "2014 365天\n",
      "2015 365天\n",
      "2016 366天\n",
      "2017 365天\n",
      "2018 365天\n",
      "2019 365天\n",
      "2020 366天\n"
     ]
    }
   ],
   "source": [
    "def numberOfDaysInAYrea(year):\n",
    "    if year%100==0:\n",
    "        if year%400==0:\n",
    "            print(year,\"366天\")\n",
    "        else:\n",
    "            print(year,\"365天\")\n",
    "    elif year%4==0:#普通年能被4整除且不能被100整除的为闰年,世纪年能被400整除的是闰年\n",
    "        print(year,\"366天\")\n",
    "    else:\n",
    "        print(year,\"365天\")\n",
    "\n",
    "for year in range(2010,2021):\n",
    "    numberOfDaysInAYrea(year)"
   ]
  },
  {
   "cell_type": "markdown",
   "metadata": {},
   "source": [
    "7、计算两点间距离"
   ]
  },
  {
   "cell_type": "code",
   "execution_count": 17,
   "metadata": {},
   "outputs": [
    {
     "name": "stdout",
     "output_type": "stream",
     "text": [
      "两点间距离为： 2.8284271247461903\n"
     ]
    }
   ],
   "source": [
    "import math\n",
    "def distance(x1,y1,x2,y2):\n",
    "    q=(x1-x2)**2\n",
    "    w=(y1-y2)**2\n",
    "    e=q+w\n",
    "    dis= math.sqrt(e)#开根号\n",
    "    print(\"两点间距离为：\",dis)\n",
    "    \n",
    "distance(1,2,3,4)"
   ]
  },
  {
   "cell_type": "markdown",
   "metadata": {},
   "source": [
    "8、如果一个素数可以写成2**（P-1）的形式，其中p是某个正整数，那么这个数就被称作梅森素数。编写程序找出p<=31的梅森素数。"
   ]
  },
  {
   "cell_type": "code",
   "execution_count": 10,
   "metadata": {},
   "outputs": [
    {
     "name": "stdout",
     "output_type": "stream",
     "text": [
      "2 3\n",
      "3 7\n",
      "5 31\n",
      "7 127\n",
      "11 2047\n",
      "13 8191\n",
      "17 131071\n",
      "19 524287\n",
      "23 8388607\n",
      "29 536870911\n",
      "31 2147483647\n"
     ]
    }
   ],
   "source": [
    "def meisen(p):\n",
    "    q=pow(2,p)-1\n",
    "    m=2\n",
    "    if p==2:\n",
    "        print(p,q)\n",
    "    for i in range(2,p):\n",
    "        m=m+1\n",
    "        if p%i==0:\n",
    "            break\n",
    "        if m == p:\n",
    "            print(p,q)\n",
    "            \n",
    "for p in range(1,32):\n",
    "    meisen(p)"
   ]
  },
  {
   "cell_type": "markdown",
   "metadata": {},
   "source": [
    "9.调用time.time()返回1970年1月1日0点开始的毫秒数"
   ]
  },
  {
   "cell_type": "code",
   "execution_count": 84,
   "metadata": {},
   "outputs": [
    {
     "name": "stdout",
     "output_type": "stream",
     "text": [
      "1565170701.4646955\n",
      "Cuurrent date and time is 2019 年 8 月 7 日 17 : 38 : 21\n"
     ]
    }
   ],
   "source": [
    "import time\n",
    "print(time.time())\n",
    "\"\"\"\n",
    " time.localtime(time.time())输出结果为\n",
    " time.struct_time(tm_year=2019, tm_mon=8, \n",
    " tm_mday=6, tm_hour=19, tm_min=21, tm_sec=46, \n",
    " tm_wday=1, tm_yday=218, tm_isdst=0)\n",
    "\"\"\"\n",
    "time = time.localtime(time.time())\n",
    "print(\"Cuurrent date and time is\",time.tm_year,\"年\",\n",
    "      time.tm_mon,\"月\",time.tm_mday,\"日\",\n",
    "      time.tm_hour,\":\",time.tm_min,\":\",time.tm_sec)"
   ]
  },
  {
   "cell_type": "markdown",
   "metadata": {},
   "source": [
    "10.掷色子"
   ]
  },
  {
   "cell_type": "code",
   "execution_count": 67,
   "metadata": {},
   "outputs": [
    {
     "name": "stdout",
     "output_type": "stream",
     "text": [
      "您第一次抛出的点数为: 6\n",
      "您第二次抛出的点数为: 4\n",
      "您抛出的两次点数之和为： 10\n",
      "您第一次抛出的点数为: 5\n",
      "您第二次抛出的点数为: 1\n",
      "您抛出的两次点数之和为： 6\n",
      "请开始下一局！\n"
     ]
    }
   ],
   "source": [
    "import numpy as np\n",
    "def dianshu():\n",
    "    res1 = np.random.choice([1,2,3,4,5,6])\n",
    "    print(\"您第一次抛出的点数为:\",res1)\n",
    "    res2 = np.random.choice([1,2,3,4,5,6])\n",
    "    print(\"您第二次抛出的点数为:\",res2)\n",
    "    res = res1 + res2\n",
    "    print(\"您抛出的两次点数之和为：\",res)\n",
    "    return res\n",
    "res = dianshu()\n",
    "if res==2 or res==3 or res==12:\n",
    "    print(\"你输了！！！\")\n",
    "elif res==7 or res==11:\n",
    "    print(\"你赢了！！！\")\n",
    "else:\n",
    "    res3 = res\n",
    "    res = dianshu()\n",
    "    if res ==7 or res == res3:\n",
    "        print(\"你赢了！！！\")\n",
    "    else:\n",
    "        print(\"请开始下一局！\")"
   ]
  },
  {
   "cell_type": "markdown",
   "metadata": {},
   "source": [
    "王者农药\n",
    "人机对战\n",
    " 1.点击人机对战的按钮(输入)\n",
    " 2.挑选人物(典韦,赵云,鲁班)\n",
    " 3.显示战力,技能,防御\n",
    " 4.人物确定,随机出1个人机，包括战力,名字...等信息显示\n",
    " 5.点击开始按钮..\n",
    " 6.进入加载页面..."
   ]
  },
  {
   "cell_type": "code",
   "execution_count": 86,
   "metadata": {},
   "outputs": [],
   "source": [
    "import numpy as np\n",
    "class wangzhe(object):\n",
    "    def duizhan(self):\n",
    "        choose = input('请选择对战模式：人机 or 多人')\n",
    "        print(choose)\n",
    "    def tiaoxuan(self):\n",
    "        a = input('请选择人物：典韦，赵云，鲁班')\n",
    "        if a == '典韦':\n",
    "            print(a ,\":战力--1500，防御--1647\")\n",
    "        elif a == '赵云':\n",
    "            print(a , \":战力--1700，防御--1541\")\n",
    "        else:\n",
    "            print(a , \":战力--2453，防御--876\")\n",
    "    def suiji(self):\n",
    "        res = np.random.choice(['典韦','赵云','鲁班'])\n",
    "        if res == '典韦':\n",
    "            print(res,\":战力--1500，防御--1647\")\n",
    "        elif res == '赵云':\n",
    "            print(res , \":战力--1700，防御--1541\")\n",
    "        else:\n",
    "            print(res , \":战力--2453，防御--876\")\n",
    "    def start(self):\n",
    "        b = input('请输入开始:')\n",
    "        print(b,\"进入加载项......\")    "
   ]
  },
  {
   "cell_type": "code",
   "execution_count": null,
   "metadata": {},
   "outputs": [],
   "source": []
  }
 ],
 "metadata": {
  "kernelspec": {
   "display_name": "Python 3",
   "language": "python",
   "name": "python3"
  },
  "language_info": {
   "codemirror_mode": {
    "name": "ipython",
    "version": 3
   },
   "file_extension": ".py",
   "mimetype": "text/x-python",
   "name": "python",
   "nbconvert_exporter": "python",
   "pygments_lexer": "ipython3",
   "version": "3.7.3"
  }
 },
 "nbformat": 4,
 "nbformat_minor": 2
}
