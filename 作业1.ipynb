{
 "cells": [
  {
   "cell_type": "markdown",
   "metadata": {},
   "source": [
    "homework1"
   ]
  },
  {
   "cell_type": "markdown",
   "metadata": {},
   "source": [
    "1、一个五角数被定义为n(3n-1)/2,编写一个测试程序使用这个函数显示前100个五角数，每行显示10个"
   ]
  },
  {
   "cell_type": "code",
   "execution_count": 80,
   "metadata": {},
   "outputs": [
    {
     "name": "stdout",
     "output_type": "stream",
     "text": [
      "1\t 5\t 12\t 22\t 35\t 51\t 70\t 92\t 117\t 145\t \n",
      "176\t 210\t 247\t 287\t 330\t 376\t 425\t 477\t 532\t 590\t \n",
      "651\t 715\t 782\t 852\t 925\t 1001\t 1080\t 1162\t 1247\t 1335\t \n",
      "1426\t 1520\t 1617\t 1717\t 1820\t 1926\t 2035\t 2147\t 2262\t 2380\t \n",
      "2501\t 2625\t 2752\t 2882\t 3015\t 3151\t 3290\t 3432\t 3577\t 3725\t \n",
      "3876\t 4030\t 4187\t 4347\t 4510\t 4676\t 4845\t 5017\t 5192\t 5370\t \n",
      "5551\t 5735\t 5922\t 6112\t 6305\t 6501\t 6700\t 6902\t 7107\t 7315\t \n",
      "7526\t 7740\t 7957\t 8177\t 8400\t 8626\t 8855\t 9087\t 9322\t 9560\t \n",
      "9801\t 10045\t 10292\t 10542\t 10795\t 11051\t 11310\t 11572\t 11837\t 12105\t \n",
      "12376\t 12650\t 12927\t 13207\t 13490\t 13776\t 14065\t 14357\t 14652\t 14950\t \n"
     ]
    }
   ],
   "source": [
    "def getPentagonalNumber(n):    \n",
    "    c =int(n*(3*n-1)/2 )\n",
    "    print(c,end='\\t ') \n",
    "    if n%10 ==0:        \n",
    "        print()                 \n",
    "for i in range(1,101):      \n",
    "    getPentagonalNumber(i)"
   ]
  },
  {
   "cell_type": "markdown",
   "metadata": {},
   "source": [
    "2、计算一个整数各个数字的和"
   ]
  },
  {
   "cell_type": "code",
   "execution_count": 83,
   "metadata": {},
   "outputs": [
    {
     "name": "stdout",
     "output_type": "stream",
     "text": [
      "9\n"
     ]
    }
   ],
   "source": [
    "def sumDigits(n):\n",
    "    #str将括号中的内容强制转换为字符串\n",
    "    str_ = str(n)\n",
    "    int_ = 0\n",
    "    for i in str_:\n",
    "        int_ +=int(i)\n",
    "    print(int_)\n",
    "\n",
    "sumDigits(234)"
   ]
  },
  {
   "cell_type": "markdown",
   "metadata": {},
   "source": [
    "3、提醒用户输入三个整数，然后调用函数按升序显示三个数"
   ]
  },
  {
   "cell_type": "code",
   "execution_count": 65,
   "metadata": {},
   "outputs": [
    {
     "name": "stdout",
     "output_type": "stream",
     "text": [
      "Enter three number: 72 69 5\n",
      "The sorted number are 5 69 72\n"
     ]
    }
   ],
   "source": [
    "def desplaySortedNumbers(num1,num2,num3):\n",
    "    print(\"Enter three number:\",num1,num2,num3)\n",
    "    if num1>num2 and num1>num3:\n",
    "        if num2 > num3:\n",
    "            print(\"The sorted number are\",num3,num2,num1)\n",
    "        else:\n",
    "            print(\"The sorted number are\",num2,num3,num1)\n",
    "    elif num2>num1 and num2>num3:\n",
    "        if num1 > num3:\n",
    "            print(\"The sorted number are\",num3,num1,num2)\n",
    "        else:\n",
    "            print(\"The sorted number are\",num1,num3,num2)\n",
    "    elif num3>num1 and num3>num2:\n",
    "        if num1 > num2:\n",
    "            print(\"The sorted number are\",num2,num1,num3)\n",
    "        else:\n",
    "            print(\"The sorted number are\",num1,num2,num3)\n",
    "\n",
    "desplaySortedNumbers(89,42,2)"
   ]
  },
  {
   "cell_type": "code",
   "execution_count": 75,
   "metadata": {},
   "outputs": [
    {
     "name": "stdout",
     "output_type": "stream",
     "text": [
      "[4, 8, 12]\n"
     ]
    }
   ],
   "source": [
    "def desplaySortedNumbers(num1,num2,num3):\n",
    "    res=[num1,num2,num3]\n",
    "    res.sort()\n",
    "    print(res)\n",
    "desplaySortedNumbers(12,4,8)"
   ]
  },
  {
   "cell_type": "markdown",
   "metadata": {},
   "source": [
    "4/ 编写一个程序提示用户输入投资额和百分比格式的年利率，然后输出一份表格显示年份从1到30年的未来值。"
   ]
  },
  {
   "cell_type": "code",
   "execution_count": 61,
   "metadata": {},
   "outputs": [
    {
     "name": "stdout",
     "output_type": "stream",
     "text": [
      "1 1060.0\n",
      "2 1123.6\n",
      "3 1191.0159999999998\n",
      "4 1262.4769599999997\n",
      "5 1338.2255775999997\n",
      "6 1418.5191122559997\n",
      "7 1503.6302589913598\n",
      "8 1593.8480745308414\n",
      "9 1689.478959002692\n",
      "10 1790.8476965428533\n",
      "11 1898.2985583354246\n",
      "12 2012.19647183555\n",
      "13 2132.928260145683\n",
      "14 2260.903955754424\n",
      "15 2396.558193099689\n",
      "16 2540.3516846856705\n",
      "17 2692.7727857668106\n",
      "18 2854.3391529128194\n",
      "19 3025.5995020875885\n",
      "20 3207.1354722128435\n",
      "21 3399.563600545614\n",
      "22 3603.537416578351\n",
      "23 3819.749661573052\n",
      "24 4048.934641267435\n",
      "25 4291.8707197434815\n",
      "26 4549.38296292809\n",
      "27 4822.345940703775\n",
      "28 5111.686697146002\n",
      "29 5418.387898974763\n",
      "30 5743.491172913248\n",
      "31 6088.100643288043\n",
      "32 6453.386681885326\n",
      "33 6840.589882798446\n",
      "34 7251.025275766352\n",
      "35 7686.086792312333\n",
      "36 8147.251999851073\n",
      "37 8636.087119842137\n",
      "38 9154.252347032665\n",
      "39 9703.507487854626\n",
      "40 10285.717937125903\n",
      "41 10902.861013353457\n",
      "42 11557.032674154663\n",
      "43 12250.454634603942\n",
      "44 12985.48191268018\n",
      "45 13764.61082744099\n",
      "46 14590.48747708745\n",
      "47 15465.916725712697\n",
      "48 16393.871729255457\n",
      "49 17377.504033010784\n",
      "50 18420.15427499143\n",
      "51 19525.363531490915\n",
      "52 20696.88534338037\n",
      "53 21938.698463983194\n",
      "54 23255.020371822186\n",
      "55 24650.321594131517\n",
      "56 26129.340889779407\n",
      "57 27697.10134316617\n",
      "58 29358.92742375614\n",
      "59 31120.463069181507\n",
      "60 32987.690853332395\n",
      "61 34966.95230453234\n",
      "62 37064.96944280428\n",
      "63 39288.86760937254\n",
      "64 41646.19966593489\n",
      "65 44144.97164589098\n",
      "66 46793.66994464444\n",
      "67 49601.29014132311\n",
      "68 52577.3675498025\n",
      "69 55732.00960279065\n",
      "70 59075.930178958086\n",
      "71 62620.48598969557\n",
      "72 66377.7151490773\n",
      "73 70360.37805802193\n",
      "74 74582.00074150325\n",
      "75 79056.92078599344\n",
      "76 83800.33603315304\n",
      "77 88828.35619514223\n",
      "78 94158.05756685077\n",
      "79 99807.54102086181\n",
      "80 105795.99348211352\n",
      "81 112143.75309104033\n",
      "82 118872.37827650274\n",
      "83 126004.7209730929\n",
      "84 133565.00423147847\n",
      "85 141578.90448536718\n",
      "86 150073.63875448922\n",
      "87 159078.05707975858\n",
      "88 168622.7405045441\n",
      "89 178740.10493481677\n",
      "90 189464.51123090577\n",
      "91 200832.3819047601\n",
      "92 212882.32481904572\n",
      "93 225655.26430818846\n",
      "94 239194.58016667978\n",
      "95 253546.25497668056\n",
      "96 268759.0302752814\n",
      "97 284884.5720917983\n",
      "98 301977.6464173062\n",
      "99 320096.3052023446\n",
      "100 339302.0835144853\n"
     ]
    }
   ],
   "source": [
    "def futureInvestmentValue(bj,ll,years):\n",
    "    years = years+1\n",
    "    for i in range(1,years):\n",
    "        sy = bj + bj*ll\n",
    "        print(i,sy)\n",
    "        bj=sy\n",
    "futureInvestmentValue(1000,0.06,100)"
   ]
  },
  {
   "cell_type": "markdown",
   "metadata": {},
   "source": [
    "5、打印ch1到ch2之间的字符，按每行指定某个数来打印。编写一个测试程序，打印“1”到“Z”的字符，每行打印10个"
   ]
  },
  {
   "cell_type": "code",
   "execution_count": null,
   "metadata": {},
   "outputs": [],
   "source": [
    "def printChars(ch1,ch2,num):\n",
    "    q=ord(ch1)+0\n",
    "    w=ord(ch2)\n",
    "    n=0\n",
    "    for i in range(q,w):\n",
    "        n=n+1\n",
    "        if n%num !=0:\n",
    "            print(chr(i),end='  ')\n",
    "        else:\n",
    "            print(chr(i))\n",
    "        \n",
    "printChars('1','Z',10)"
   ]
  },
  {
   "cell_type": "markdown",
   "metadata": {},
   "source": [
    "6、编写一个程序测试，显示从2010年到2020年每年的天数"
   ]
  },
  {
   "cell_type": "code",
   "execution_count": 63,
   "metadata": {},
   "outputs": [
    {
     "name": "stdout",
     "output_type": "stream",
     "text": [
      "2010 365天\n",
      "2011 365天\n",
      "2012 366天\n",
      "2013 365天\n",
      "2014 365天\n",
      "2015 365天\n",
      "2016 366天\n",
      "2017 365天\n",
      "2018 365天\n",
      "2019 365天\n",
      "2020 366天\n"
     ]
    }
   ],
   "source": [
    "def numberOfDaysInAYrea(year):\n",
    "    if year%100==0:\n",
    "        if year%400==0:\n",
    "            print(year,\"366天\")\n",
    "        else:\n",
    "            print(year,\"365天\")\n",
    "    elif year%4==0:#普通年能被4整除且不能被100整除的为闰年,世纪年能被400整除的是闰年\n",
    "        print(year,\"366天\")\n",
    "    else:\n",
    "        print(year,\"365天\")\n",
    "\n",
    "for year in range(2010,2021):\n",
    "    numberOfDaysInAYrea(year)"
   ]
  },
  {
   "cell_type": "markdown",
   "metadata": {},
   "source": [
    "7、计算两点间距离"
   ]
  },
  {
   "cell_type": "code",
   "execution_count": 17,
   "metadata": {},
   "outputs": [
    {
     "name": "stdout",
     "output_type": "stream",
     "text": [
      "两点间距离为： 2.8284271247461903\n"
     ]
    }
   ],
   "source": [
    "import math\n",
    "def distance(x1,y1,x2,y2):\n",
    "    q=(x1-x2)**2\n",
    "    w=(y1-y2)**2\n",
    "    e=q+w\n",
    "    dis= math.sqrt(e)#开根号\n",
    "    print(\"两点间距离为：\",dis)\n",
    "    \n",
    "distance(1,2,3,4)"
   ]
  },
  {
   "cell_type": "markdown",
   "metadata": {},
   "source": [
    "8、如果一个素数可以写成2**（P-1）的形式，其中p是某个正整数，那么这个数就被称作梅森素数。编写程序找出p<=31的梅森素数。"
   ]
  },
  {
   "cell_type": "code",
   "execution_count": null,
   "metadata": {},
   "outputs": [],
   "source": [
    "def meisen(p):\n",
    "    q=pow(2,p)-1\n",
    "    m=2\n",
    "    if p==2:\n",
    "        print(p,q)\n",
    "    for i in range(2,p):\n",
    "        m=m+1\n",
    "        if p%i==0:\n",
    "            break\n",
    "        if m == p:\n",
    "            print(p,q)\n",
    "            \n",
    "for p in range(1,32):\n",
    "    meisen(p)"
   ]
  },
  {
   "cell_type": "markdown",
   "metadata": {},
   "source": [
    "9.调用time.time()返回1970年1月1日0点开始的毫秒数"
   ]
  },
  {
   "cell_type": "code",
   "execution_count": 84,
   "metadata": {},
   "outputs": [
    {
     "name": "stdout",
     "output_type": "stream",
     "text": [
      "1565170701.4646955\n",
      "Cuurrent date and time is 2019 年 8 月 7 日 17 : 38 : 21\n"
     ]
    }
   ],
   "source": [
    "import time\n",
    "print(time.time())\n",
    "\"\"\"\n",
    " time.localtime(time.time())输出结果为\n",
    " time.struct_time(tm_year=2019, tm_mon=8, \n",
    " tm_mday=6, tm_hour=19, tm_min=21, tm_sec=46, \n",
    " tm_wday=1, tm_yday=218, tm_isdst=0)\n",
    "\"\"\"\n",
    "time = time.localtime(time.time())\n",
    "print(\"Cuurrent date and time is\",time.tm_year,\"年\",\n",
    "      time.tm_mon,\"月\",time.tm_mday,\"日\",\n",
    "      time.tm_hour,\":\",time.tm_min,\":\",time.tm_sec)"
   ]
  },
  {
   "cell_type": "markdown",
   "metadata": {},
   "source": [
    "10.掷色子"
   ]
  },
  {
   "cell_type": "code",
   "execution_count": 67,
   "metadata": {},
   "outputs": [
    {
     "name": "stdout",
     "output_type": "stream",
     "text": [
      "您第一次抛出的点数为: 6\n",
      "您第二次抛出的点数为: 4\n",
      "您抛出的两次点数之和为： 10\n",
      "您第一次抛出的点数为: 5\n",
      "您第二次抛出的点数为: 1\n",
      "您抛出的两次点数之和为： 6\n",
      "请开始下一局！\n"
     ]
    }
   ],
   "source": [
    "import numpy as np\n",
    "def dianshu():\n",
    "    res1 = np.random.choice([1,2,3,4,5,6])\n",
    "    print(\"您第一次抛出的点数为:\",res1)\n",
    "    res2 = np.random.choice([1,2,3,4,5,6])\n",
    "    print(\"您第二次抛出的点数为:\",res2)\n",
    "    res = res1 + res2\n",
    "    print(\"您抛出的两次点数之和为：\",res)\n",
    "    return res\n",
    "res = dianshu()\n",
    "if res==2 or res==3 or res==12:\n",
    "    print(\"你输了！！！\")\n",
    "elif res==7 or res==11:\n",
    "    print(\"你赢了！！！\")\n",
    "else:\n",
    "    res3 = res\n",
    "    res = dianshu()\n",
    "    if res ==7 or res == res3:\n",
    "        print(\"你赢了！！！\")\n",
    "    else:\n",
    "        print(\"请开始下一局！\")"
   ]
  },
  {
   "cell_type": "markdown",
   "metadata": {},
   "source": [
    "王者农药\n",
    "人机对战\n",
    " 1.点击人机对战的按钮(输入)\n",
    " 2.挑选人物(典韦,赵云,鲁班)\n",
    " 3.显示战力,技能,防御\n",
    " 4.人物确定,随机出1个人机，包括战力,名字...等信息显示\n",
    " 5.点击开始按钮..\n",
    " 6.进入加载页面..."
   ]
  },
  {
   "cell_type": "code",
   "execution_count": 86,
   "metadata": {},
   "outputs": [],
   "source": [
    "import numpy as np\n",
    "class wangzhe(object):\n",
    "    def duizhan(self):\n",
    "        choose = input('请选择对战模式：人机 or 多人')\n",
    "        print(choose)\n",
    "    def tiaoxuan(self):\n",
    "        a = input('请选择人物：典韦，赵云，鲁班')\n",
    "        if a == '典韦':\n",
    "            print(a ,\":战力--1500，防御--1647\")\n",
    "        elif a == '赵云':\n",
    "            print(a , \":战力--1700，防御--1541\")\n",
    "        else:\n",
    "            print(a , \":战力--2453，防御--876\")\n",
    "    def suiji(self):\n",
    "        res = np.random.choice(['典韦','赵云','鲁班'])\n",
    "        if res == '典韦':\n",
    "            print(res,\":战力--1500，防御--1647\")\n",
    "        elif res == '赵云':\n",
    "            print(res , \":战力--1700，防御--1541\")\n",
    "        else:\n",
    "            print(res , \":战力--2453，防御--876\")\n",
    "    def start(self):\n",
    "        b = input('请输入开始:')\n",
    "        print(b,\"进入加载项......\")    "
   ]
  },
  {
   "cell_type": "code",
   "execution_count": null,
   "metadata": {},
   "outputs": [],
   "source": []
  }
 ],
 "metadata": {
  "kernelspec": {
   "display_name": "Python 3",
   "language": "python",
   "name": "python3"
  },
  "language_info": {
   "codemirror_mode": {
    "name": "ipython",
    "version": 3
   },
   "file_extension": ".py",
   "mimetype": "text/x-python",
   "name": "python",
   "nbconvert_exporter": "python",
   "pygments_lexer": "ipython3",
   "version": "3.7.3"
  }
 },
 "nbformat": 4,
 "nbformat_minor": 2
}
