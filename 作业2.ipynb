{
 "cells": [
  {
   "cell_type": "code",
   "execution_count": 4,
   "metadata": {},
   "outputs": [
    {
     "name": "stdout",
     "output_type": "stream",
     "text": [
      "(4, 40, 160, 88)\n",
      "(3.5, 35.7, 124.95000000000002, 78.4)\n"
     ]
    }
   ],
   "source": [
    "\"\"\"\n",
    "按顺序显示每个矩形的宽、高、面积、周长\n",
    "\"\"\"\n",
    "class rectangle(object):\n",
    "    def __init__(self,width,height):\n",
    "        self.a = width\n",
    "        self.b = height\n",
    "        width=1\n",
    "        height=2\n",
    "    def getArea(self):\n",
    "        area = self.a * self.b\n",
    "        perimeter = 2*(self.a + self.b)\n",
    "        return(self.a,self.b,area,perimeter)\n",
    "res = rectangle(4,40)\n",
    "print(res.getArea())\n",
    "res = rectangle(3.5,35.7)\n",
    "print(res.getArea())"
   ]
  },
  {
   "cell_type": "code",
   "execution_count": 5,
   "metadata": {},
   "outputs": [
    {
     "name": "stdout",
     "output_type": "stream",
     "text": [
      "id为： 4545\n",
      "余额为： 10500\n",
      "月利率为： 0.004583333333333333\n",
      "月利息为： 48.125\n"
     ]
    }
   ],
   "source": [
    "\"\"\"\n",
    "使用deposit方法存入3000美元，并打印id、金额、月利率和月利息\n",
    "\"\"\"\n",
    "class Account(object):\n",
    "    def __init__(self,id,balance,annuallnterestRate):\n",
    "        self.__id = id\n",
    "        self.__balance = balance\n",
    "        self.__annuallnterestRate = annuallnterestRate\n",
    "        id = 0\n",
    "        balance = 100\n",
    "        annuallnterestRate = 0\n",
    "        \n",
    "    @property#访问器\n",
    "    def id(self):\n",
    "        print(self.__id)   \n",
    "    @id.setter#修改器\n",
    "    def id(self,erid):\n",
    "        self.__id = erid\n",
    "    @property\n",
    "    def balance(self):\n",
    "        print(self.__balance)   \n",
    "    @balance.setter\n",
    "    def balance(self,erbalance):\n",
    "        self.__balance = erbalance\n",
    "    @property\n",
    "    def annuallnterestRate(self):\n",
    "        print(self.__annuallnterestRate)   \n",
    "    @annuallnterestRate.setter\n",
    "    def annuallnterestRate(self,erannuallnterestRate):\n",
    "        self.__annuallnterestRate = erannuallnterestRate\n",
    "    \n",
    "    \n",
    "    def getMonthlyInterestRate(self):\n",
    "        #返回月利率\n",
    "        self.monthlyInterestRate = self.__annuallnterestRate/12\n",
    "        print(\"月利率为：\",self.monthlyInterestRate)\n",
    "    def getMonthlyInterest(self):\n",
    "        #返回月利息\n",
    "        print(\"月利息为：\",self.__balance * self.monthlyInterestRate)\n",
    "    def withdraw(self,atm):\n",
    "        #取款\n",
    "        self.__balance = self.__balance - atm\n",
    "    def deposit(self,atm):\n",
    "        #存款\n",
    "        self.__balance = self.__balance + atm\n",
    "        print(\"id为：\",self.__id)\n",
    "        print(\"余额为：\",self.__balance)\n",
    "\n",
    "get = Account(1122,20000,0.045)\n",
    "get.id = 4545\n",
    "get.balance = 10000\n",
    "get.annuallnterestRate = 0.055\n",
    "\n",
    "get.withdraw(2500)\n",
    "get.deposit(3000)\n",
    "get.getMonthlyInterestRate()\n",
    "get.getMonthlyInterest()"
   ]
  },
  {
   "cell_type": "code",
   "execution_count": 6,
   "metadata": {},
   "outputs": [
    {
     "name": "stdout",
     "output_type": "stream",
     "text": [
      "FAST 10.0 True yellow\n",
      "MEDIUM 5.0 False blue\n"
     ]
    }
   ],
   "source": [
    "\"\"\"\n",
    "显示每个对象的speed、radius、color和on属性\n",
    "\"\"\"\n",
    "class Fan(object):\n",
    "    def __init__(self):\n",
    "        self.speed=1\n",
    "        self.on=False\n",
    "        self.radius=5.0\n",
    "        self.color=\"blue\"\n",
    "    def fengshan(self,speed,on,radius,color):\n",
    "        self.speed=speed\n",
    "        self.color=color\n",
    "        self.radius=radius\n",
    "        self.on=on\n",
    "    def xianshi(self):\n",
    "        if self.speed==1:\n",
    "            speed1=\"SLOW\"\n",
    "        elif self.speed==2:\n",
    "            speed1=\"MEDIUM\"\n",
    "        else:\n",
    "            speed1=\"FAST\"\n",
    "        print(speed1,self.on,self.radius,self.color)\n",
    "qwe = Fan()\n",
    "qwe.fengshan(3,10.0,True,\"yellow\")\n",
    "qwe.xianshi()\n",
    "qwe.fengshan(2,5.0,False,\"blue\")\n",
    "qwe.xianshi()"
   ]
  },
  {
   "cell_type": "code",
   "execution_count": 7,
   "metadata": {},
   "outputs": [
    {
     "name": "stdout",
     "output_type": "stream",
     "text": [
      "40\n",
      "30.776835371752536\n"
     ]
    }
   ],
   "source": [
    "\"\"\"\n",
    "显示正n边形周长和面积\n",
    "\"\"\"\n",
    "import math\n",
    "class RegularPolygon(object):\n",
    "    def __init__(self,n,side,x,y):\n",
    "        self.n=n\n",
    "        self.side=side\n",
    "        self.x=x\n",
    "        self.y=y\n",
    "    def getPerimenter(self):\n",
    "        print(self.n*self.side)\n",
    "    def getArea(self):\n",
    "        Area = self.n*self.side/(4*math.tan(math.pi/self.n))\n",
    "        print(Area)\n",
    "qwe = RegularPolygon(10,4,5.6,7.8)\n",
    "qwe.getPerimenter()\n",
    "qwe.getArea()"
   ]
  },
  {
   "cell_type": "code",
   "execution_count": 8,
   "metadata": {},
   "outputs": [
    {
     "name": "stdout",
     "output_type": "stream",
     "text": [
      "边长为 5 的正 6 边形周长为： 30\n",
      "边长为 5 的正 6 边形面积为： 21.650635094610966\n"
     ]
    }
   ],
   "source": [
    "\"\"\"\n",
    "显示正n边形周长和面积\n",
    "\"\"\"\n",
    "import math\n",
    "class RegularPolygon(object):\n",
    "    def __init__(self,n,side,x,y):\n",
    "        self.__n = n\n",
    "        self.__side = side\n",
    "        self.__x = x\n",
    "        self.__y = y\n",
    "        x = 0\n",
    "        y = 0\n",
    "    @property#访问器\n",
    "    def n(self):\n",
    "        print(self.__n)   \n",
    "    @n.setter#修改器\n",
    "    def n(self,ern):\n",
    "        self.__n = ern   \n",
    "    @property#访问器\n",
    "    def side(self):\n",
    "        print(self.__side)   \n",
    "    @side.setter#修改器\n",
    "    def side(self,erside):\n",
    "        self.__side= erside    \n",
    "    @property#访问器\n",
    "    def x(self):\n",
    "        print(self.__x)   \n",
    "    @x.setter#修改器\n",
    "    def x(self,erx):\n",
    "        self.__x= erx  \n",
    "    @property#访问器\n",
    "    def y(self):\n",
    "        print(self.__y)   \n",
    "    @y.setter#修改器\n",
    "    def y(self,ery):\n",
    "        self.__y= ery\n",
    "        \n",
    "        \n",
    "    def getPerimeter(self):\n",
    "        print(\"边长为\",self.__side,\"的正\",self.__n,\"边形周长为：\",self.__n * self.__side)\n",
    "    def getArea(self):\n",
    "        print(\"边长为\",self.__side,\"的正\",self.__n,\"边形面积为：\",(self.__n * self.__side**2)/4* math.tan(math.pi/self.__n))\n",
    "        \n",
    "m =  RegularPolygon(10,4,5.6,7.8)\n",
    "m.n=6\n",
    "m.side = 5\n",
    "m.x = 45\n",
    "m.y = 44\n",
    "m.getPerimeter()\n",
    "m.getArea()"
   ]
  },
  {
   "cell_type": "code",
   "execution_count": 9,
   "metadata": {},
   "outputs": [
    {
     "name": "stdout",
     "output_type": "stream",
     "text": [
      "-4.0\n",
      "4.5\n"
     ]
    }
   ],
   "source": [
    "\"\"\"\n",
    "2*2线性方程\n",
    "\"\"\"\n",
    "class LinearEquation(object):\n",
    "    def __init__(self,a,b,c,d,e,f):\n",
    "        self.__a=a\n",
    "        self.__b=b\n",
    "        self.__c=c\n",
    "        self.__d=d\n",
    "        self.__e=e\n",
    "        self.__f=f\n",
    "        self.x=0\n",
    "        self.y=0\n",
    "        self.z=0\n",
    "    def isSolvable(self):\n",
    "        z=self.__a*self.__d-self.__b*self.__c\n",
    "        if z !=0:\n",
    "            self.z=True\n",
    "        else:\n",
    "            self.z=False\n",
    "    def get(self):\n",
    "        self.x=(self.__e*self.__d-self.__b*self.__f)/(self.__a*self.__d-self.__b*self.__c)\n",
    "        self.y=(self.__a*self.__f-self.__e*self.__c)/(self.__a*self.__d-self.__b*self.__c)\n",
    "    def getX(self):\n",
    "        self.isSolvable()\n",
    "        if self.z == True:\n",
    "            self.get()\n",
    "            print(self.x)\n",
    "        else:\n",
    "            pass\n",
    "    def getY(self):\n",
    "        self.isSolvable()\n",
    "        if self.z == True:\n",
    "            self.get()\n",
    "            print(self.y)\n",
    "        else:\n",
    "            pass\n",
    "        \n",
    "qwe=LinearEquation(1,2,3,4,5,6)\n",
    "qwe.getX()\n",
    "qwe.getY()"
   ]
  },
  {
   "cell_type": "code",
   "execution_count": 10,
   "metadata": {},
   "outputs": [
    {
     "data": {
      "text/plain": [
       "(2.0, 3.0)"
      ]
     },
     "execution_count": 10,
     "metadata": {},
     "output_type": "execute_result"
    }
   ],
   "source": [
    "\"\"\"\n",
    "显示交点\n",
    "\"\"\"\n",
    "import numpy as np\n",
    "def get_crossing(s1,s2):\n",
    "    xa,ya = s1[0][0],s1[0][1]\n",
    "    xb,yb = s1[1][0],s1[1][1]\n",
    "    xc,yc = s2[0][0],s2[0][1]\n",
    "    xd,yd = s2[1][0],s2[1][1]\n",
    "    #判断两条直线是否相交，矩阵行列式计算\n",
    "    a = np.matrix(\n",
    "        [\n",
    "            [xb-xa,-(xd-xc)],\n",
    "            [yb-ya,-(yd-yc)]\n",
    "        ]\n",
    "    )\n",
    "    delta = np.linalg.det(a)\n",
    "    #不相交,返回两线段\n",
    "    if np.fabs(delta) < 1e-6:\n",
    "        print(delta)\n",
    "        return None        \n",
    "    #求两个参数lambda和miu\n",
    "    c = np.matrix(\n",
    "        [\n",
    "            [xc-xa,-(xd-xc)],\n",
    "            [yc-ya,-(yd-yc)]\n",
    "        ]\n",
    "    )\n",
    "    d = np.matrix(\n",
    "        [\n",
    "            [xb-xa,xc-xa],\n",
    "            [yb-ya,yc-ya]\n",
    "        ]\n",
    "    )\n",
    "    lamb = np.linalg.det(c)/delta\n",
    "    miu = np.linalg.det(d)/delta\n",
    "    #相交\n",
    "    if lamb <= 1 and lamb >= 0 and miu >= 0 and miu <= 1:\n",
    "        x = xc + miu*(xd-xc)\n",
    "        y = yc + miu*(yd-yc)\n",
    "        return (x,y)\n",
    "    #相交在延长线上\n",
    "    else:\n",
    "        return None\n",
    "get_crossing(((1,2),(3,4)),((1,4),(2,3)))"
   ]
  },
  {
   "cell_type": "code",
   "execution_count": null,
   "metadata": {},
   "outputs": [],
   "source": []
  }
 ],
 "metadata": {
  "kernelspec": {
   "display_name": "Python 3",
   "language": "python",
   "name": "python3"
  },
  "language_info": {
   "codemirror_mode": {
    "name": "ipython",
    "version": 3
   },
   "file_extension": ".py",
   "mimetype": "text/x-python",
   "name": "python",
   "nbconvert_exporter": "python",
   "pygments_lexer": "ipython3",
   "version": "3.7.3"
  }
 },
 "nbformat": 4,
 "nbformat_minor": 2
}
